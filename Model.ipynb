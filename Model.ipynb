{
  "nbformat": 4,
  "nbformat_minor": 0,
  "metadata": {
    "colab": {
      "name": "Question_2.ipynb",
      "provenance": [],
      "collapsed_sections": [],
      "mount_file_id": "1DAxIsPo_PdwVVRsomt1wiGBUbmFHidn2",
      "authorship_tag": "ABX9TyNp0PSPuinxKccX2sFPQZN2",
      "include_colab_link": true
    },
    "kernelspec": {
      "name": "python3",
      "display_name": "Python 3"
    }
  },
  "cells": [
    {
      "cell_type": "markdown",
      "metadata": {
        "id": "view-in-github",
        "colab_type": "text"
      },
      "source": [
        "<a href=\"https://colab.research.google.com/github/RG2806/Product_Recommendation_Engine/blob/master/Question_2.ipynb\" target=\"_parent\"><img src=\"https://colab.research.google.com/assets/colab-badge.svg\" alt=\"Open In Colab\"/></a>"
      ]
    },
    {
      "cell_type": "code",
      "metadata": {
        "id": "O-HPO9pDgXRi",
        "colab_type": "code",
        "colab": {}
      },
      "source": [
        "import numpy as np # linear algebra\n",
        "import pandas as pd # data processing, CSV file I/O (e.g. pd.read_csv)\n",
        "from sklearn.metrics.pairwise import cosine_similarity"
      ],
      "execution_count": 0,
      "outputs": []
    },
    {
      "cell_type": "code",
      "metadata": {
        "id": "JjQB2U_7gtnZ",
        "colab_type": "code",
        "colab": {}
      },
      "source": [
        "dataset_path = '/content/drive/My Drive/question_2/ecommerce_sample_dataset.csv'\n",
        "df=pd.read_csv(dataset_path)\n",
        "df.head()"
      ],
      "execution_count": 0,
      "outputs": []
    },
    {
      "cell_type": "code",
      "metadata": {
        "id": "onlzRK_-hE9M",
        "colab_type": "code",
        "colab": {}
      },
      "source": [
        "df.info()"
      ],
      "execution_count": 0,
      "outputs": []
    },
    {
      "cell_type": "code",
      "metadata": {
        "id": "U_Is_JBlhMK3",
        "colab_type": "code",
        "colab": {}
      },
      "source": [
        "df.duplicated().value_counts()"
      ],
      "execution_count": 0,
      "outputs": []
    },
    {
      "cell_type": "code",
      "metadata": {
        "id": "LqRU3F__h7n2",
        "colab_type": "code",
        "colab": {}
      },
      "source": [
        "df['crawl_timestamp']=pd.to_datetime(df['crawl_timestamp'])\n",
        "df['crawl_year']=df['crawl_timestamp'].apply(lambda x :x.year)\n",
        "df['crawl_month']=df['crawl_timestamp'].apply(lambda x :x.month)"
      ],
      "execution_count": 0,
      "outputs": []
    },
    {
      "cell_type": "code",
      "metadata": {
        "id": "BGAQhrY6iKGO",
        "colab_type": "code",
        "colab": {}
      },
      "source": [
        "import matplotlib.pyplot as plt\n",
        "plt.figure(figsize=(10,10))\n",
        "print(df.groupby('crawl_month')['crawl_month'].count())\n",
        "df.groupby('crawl_month')['crawl_month'].count().plot(kind='bar')\n",
        "plt.title('Sales count by Month')\n",
        "plt.xlabel('Month')\n",
        "plt.ylabel('Count')\n",
        "plt.show()"
      ],
      "execution_count": 0,
      "outputs": []
    },
    {
      "cell_type": "code",
      "metadata": {
        "id": "Cn8efB17iVGw",
        "colab_type": "code",
        "colab": {}
      },
      "source": [
        "df['MainCategory'] = df['product_category_tree'].apply(lambda x: x.split('>>')[0][2:].strip())\n",
        "plt.figure(figsize=(12,8))\n",
        "df.groupby('MainCategory')['MainCategory'].count().sort_values(ascending=False)[:15]\n",
        "df['MainCategory'].value_counts()[:15].sort_values(ascending=True).plot(kind='barh')"
      ],
      "execution_count": 0,
      "outputs": []
    },
    {
      "cell_type": "code",
      "metadata": {
        "id": "BRkSvLJMxoUR",
        "colab_type": "code",
        "colab": {}
      },
      "source": [
        "import re\n",
        "import nltk\n",
        "from nltk import pos_tag, word_tokenize, PorterStemmer\n",
        "from nltk.stem import WordNetLemmatizer\n",
        "from sklearn.feature_extraction.text import TfidfVectorizer, CountVectorizer\n",
        "wordnet_lemmatizr=WordNetLemmatizer()"
      ],
      "execution_count": 0,
      "outputs": []
    },
    {
      "cell_type": "code",
      "metadata": {
        "id": "M3zLWHPsx0_W",
        "colab_type": "code",
        "colab": {}
      },
      "source": [
        "from termcolor import colored"
      ],
      "execution_count": 0,
      "outputs": []
    },
    {
      "cell_type": "code",
      "metadata": {
        "id": "PrLDQ851x5X5",
        "colab_type": "code",
        "colab": {}
      },
      "source": [
        "def clean_categories(dataframe):\n",
        "    document=list(dataframe['product_category_tree'].values)\n",
        "    categories=[re.findall(r'name=(.*?)}',sentence) for sentence in document]\n",
        "    categories=[' '.join(word) for word in categories]\n",
        "    return(categories)"
      ],
      "execution_count": 0,
      "outputs": []
    },
    {
      "cell_type": "code",
      "metadata": {
        "id": "9CsZz4FputY5",
        "colab_type": "code",
        "colab": {}
      },
      "source": [
        "def special_characters_cleaning(document):\n",
        "    sentences=[]\n",
        "    for sentence in document:\n",
        "        sentences.append(re.sub('[^a-zA-Z0-9\\n\\.]',' ',str(sentence)))\n",
        "    return(sentences)"
      ],
      "execution_count": 0,
      "outputs": []
    },
    {
      "cell_type": "code",
      "metadata": {
        "id": "IVkQEXtQo1J6",
        "colab_type": "code",
        "colab": {}
      },
      "source": [
        "def clean_product_type(dataframe):\n",
        "    document=list(dataframe['product_category_tree'])\n",
        "    product_types=[re.findall(r'\\\"(.*?)\\\"', sentence) for sentence in document]\n",
        "    product_types=[' '.join(listed_items) for listed_items in product_types]\n",
        "    return(product_types)"
      ],
      "execution_count": 0,
      "outputs": []
    },
    {
      "cell_type": "code",
      "metadata": {
        "id": "dql6aG05a_xP",
        "colab_type": "code",
        "colab": {}
      },
      "source": [
        ""
      ],
      "execution_count": 0,
      "outputs": []
    },
    {
      "cell_type": "code",
      "metadata": {
        "id": "LhgNfzksuyrI",
        "colab_type": "code",
        "colab": {}
      },
      "source": [
        "def categories_extraction(dataframe):\n",
        "    categories=[word for item in dataframe['categories'] for word in item.split()]\n",
        "    categories=list(set(categories))\n",
        "    return(categories)"
      ],
      "execution_count": 0,
      "outputs": []
    },
    {
      "cell_type": "code",
      "metadata": {
        "id": "9MKxeLZDuvlQ",
        "colab_type": "code",
        "colab": {}
      },
      "source": [
        "def lemmetize_document(document):\n",
        "    sentences=[]\n",
        "    for sentence in document:\n",
        "        word=[wordnet_lemmatizer.lemmatize(word) for word in word_tokenize(sentence)]\n",
        "        sentences.append(' '.join(words))\n",
        "    return(sentences)"
      ],
      "execution_count": 0,
      "outputs": []
    },
    {
      "cell_type": "code",
      "metadata": {
        "id": "1p7ijySBu1-X",
        "colab_type": "code",
        "colab": {}
      },
      "source": [
        "def save_categories(dataframe):\n",
        "    pass"
      ],
      "execution_count": 0,
      "outputs": []
    },
    {
      "cell_type": "code",
      "metadata": {
        "id": "SNfPRRyVu5MS",
        "colab_type": "code",
        "colab": {}
      },
      "source": [
        "def pre_processing_document(document):\n",
        "    document=special_characters_cleaning(document)\n",
        "    document=lemmetize_document(document)\n",
        "    document=[sentence.title() for sentence in document]\n",
        "    return(document)"
      ],
      "execution_count": 0,
      "outputs": []
    },
    {
      "cell_type": "code",
      "metadata": {
        "id": "sEtwi_-5u7B7",
        "colab_type": "code",
        "colab": {}
      },
      "source": [
        "def extract_categories_from_description(document,categories):\n",
        "    extracted_categories=[]\n",
        "    for sentence in document:\n",
        "        extracted_categories.append(' '.join(set(categories).intersection(set(word_tokenize(sentence)))))\n",
        "        return(extracted_categories)"
      ],
      "execution_count": 0,
      "outputs": []
    },
    {
      "cell_type": "code",
      "metadata": {
        "id": "sNkLhHuVu9m1",
        "colab_type": "code",
        "colab": {}
      },
      "source": [
        "lemmetize= WordNetLemmatizer()\n",
        "stemmer=PorterStemmer()"
      ],
      "execution_count": 0,
      "outputs": []
    },
    {
      "cell_type": "code",
      "metadata": {
        "id": "C1FsIZp-vB5c",
        "colab_type": "code",
        "colab": {}
      },
      "source": [
        "df[\"products\"]=clean_product_type(df)\n",
        "df[\"categories\"]=clean_categories(df)\n",
        "categories= list(set(df['product_category_tree'].values))\n",
        "categories= [item.split() for item in df['product_category_tree']]\n",
        "categories= [word.lower() for listed_item in categories for word in listed_item]\n",
        "categories= list(set(categories))\n",
        "\n",
        "df"
      ],
      "execution_count": 0,
      "outputs": []
    },
    {
      "cell_type": "code",
      "metadata": {
        "id": "nZnvg2Jxxj_O",
        "colab_type": "code",
        "colab": {}
      },
      "source": [
        "df['detailed_description']= df['products'].apply(lambda x: x.replace('>>',''))+\" \"+ df['brand']+\" \" +df['product_name']\n",
        "df['detailed_description']=df['detailed_description'].fillna('')\n",
        "df2=df[['product_name','detailed_description']].copy()\n",
        "df2.drop_duplicates('product_name', inplace=True)\n",
        "df2['new_col'] = range(0, len(df2) )\n",
        "df2\n",
        "df2.to_csv (r'/content/drive/My Drive/question_2/export_dataframe.csv', index = False, header=True)\n"
      ],
      "execution_count": 0,
      "outputs": []
    },
    {
      "cell_type": "code",
      "metadata": {
        "id": "Nsr2jdbCvLYT",
        "colab_type": "code",
        "outputId": "cc3ce30f-a3d8-4375-beb7-69dc09ba6e47",
        "colab": {
          "base_uri": "https://localhost:8080/",
          "height": 151
        }
      },
      "source": [
        "\n",
        "cv = CountVectorizer()\n",
        "\n",
        "count_matrix = cv.fit_transform(df2['detailed_description'])\n",
        "\n",
        "cosine_sim = cosine_similarity(count_matrix)\n",
        "def get_title_from_index(index):\n",
        "    return df2[df2.new_col == index][\"product_name\"].values[0]\n",
        "def get_index_from_title(product_name):\n",
        "    return df2[df2.product_name == product_name]['new_col'].values[0]\n",
        "\n",
        "movie_user_likes = \"Alisha Solid Women's Cycling Shorts\"\n",
        "movie_index = get_index_from_title(movie_user_likes)\n",
        "similar_movies = list(enumerate(cosine_sim[movie_index]))\n",
        "\n",
        "sorted_similar_movies = sorted(similar_movies,key=lambda x:x[1],reverse=True)[1:]\n",
        "\n",
        "j=0\n",
        "print(\"Top 5 similar movies to \"+movie_user_likes+\" are:\\n\")\n",
        "for element in sorted_similar_movies:\n",
        "    print(get_title_from_index(element[0]))\n",
        "    j=j+1\n",
        "    if j>5:\n",
        "        break"
      ],
      "execution_count": 0,
      "outputs": [
        {
          "output_type": "stream",
          "text": [
            "Top 5 similar movies to Alisha Solid Women's Cycling Shorts are:\n",
            "\n",
            "Mynte Solid Women's Cycling Shorts, Gym Shorts, Swim Shorts\n",
            "Ashdan Solid Women's Basic Shorts\n",
            "Nordlich Printed Women's Night Shorts\n",
            "Lavennder Printed Women's Basic Shorts\n",
            "Vero Moda Solid Women's Basic Shorts\n",
            "Lavennder Floral Print Women's Basic Shorts\n"
          ],
          "name": "stdout"
        }
      ]
    },
    {
      "cell_type": "code",
      "metadata": {
        "id": "FJKa8QYfvgP-",
        "colab_type": "code",
        "colab": {}
      },
      "source": [
        "document= list(df['detailed_description'].values)\n",
        "document= special_characters_cleaning(document)"
      ],
      "execution_count": 0,
      "outputs": []
    },
    {
      "cell_type": "code",
      "metadata": {
        "id": "BoFHvJMKvpzt",
        "colab_type": "code",
        "colab": {}
      },
      "source": [
        "tfidf= TfidfVectorizer(stop_words= 'english', vocabulary= categories)\n",
        "data= tfidf.fit_transform(document)"
      ],
      "execution_count": 0,
      "outputs": []
    },
    {
      "cell_type": "code",
      "metadata": {
        "id": "CwzIP6eevroV",
        "colab_type": "code",
        "colab": {}
      },
      "source": [
        "from sklearn.neighbors import NearestNeighbors\n",
        "nn= NearestNeighbors(algorithm= 'brute', n_neighbors= 20).fit(data)"
      ],
      "execution_count": 0,
      "outputs": []
    },
    {
      "cell_type": "code",
      "metadata": {
        "id": "SY7JvWPwvuPl",
        "colab_type": "code",
        "colab": {}
      },
      "source": [
        "text= df[df['brand']== \"FabHomeDecor\"]['detailed_description'].values\n",
        "result = nn.kneighbors(tfidf.transform(text))\n",
        "for col in tfidf.transform(text).nonzero()[1]:\n",
        "    print(tfidf.get_feature_names()[col], ' - ', tfidf.transform(text)[0, col])"
      ],
      "execution_count": 0,
      "outputs": []
    },
    {
      "cell_type": "code",
      "metadata": {
        "id": "vgyBK19916UG",
        "colab_type": "code",
        "colab": {}
      },
      "source": [
        "text"
      ],
      "execution_count": 0,
      "outputs": []
    },
    {
      "cell_type": "code",
      "metadata": {
        "id": "1ceMwnNV2CUm",
        "colab_type": "code",
        "colab": {}
      },
      "source": [
        "result"
      ],
      "execution_count": 0,
      "outputs": []
    },
    {
      "cell_type": "code",
      "metadata": {
        "id": "VRpO0_t5vxgG",
        "colab_type": "code",
        "colab": {}
      },
      "source": [
        "for item in result[1][0]:\n",
        "    print(colored(df.iloc[item]['product_category_tree'].upper(), 'blue'), ':', document[item])"
      ],
      "execution_count": 0,
      "outputs": []
    },
    {
      "cell_type": "code",
      "metadata": {
        "id": "e0_UweEZbCeO",
        "colab_type": "code",
        "colab": {}
      },
      "source": [
        "df"
      ],
      "execution_count": 0,
      "outputs": []
    }
  ]
}
